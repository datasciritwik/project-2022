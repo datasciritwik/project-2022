{
 "cells": [
  {
   "cell_type": "code",
   "execution_count": 1,
   "id": "f270373a",
   "metadata": {},
   "outputs": [],
   "source": [
    "import pandas as pd\n",
    "import numpy as np\n",
    "import matplotlib.pyplot as plt\n",
    "import seaborn as sns\n",
    "import warnings\n",
    "warnings.filterwarnings('ignore')"
   ]
  },
  {
   "cell_type": "code",
   "execution_count": 2,
   "id": "4c5cb603",
   "metadata": {},
   "outputs": [],
   "source": [
    "df = pd.read_excel('final_data.xlsx')"
   ]
  },
  {
   "cell_type": "code",
   "execution_count": 3,
   "id": "93dc773d",
   "metadata": {},
   "outputs": [
    {
     "data": {
      "text/html": [
       "<style  type=\"text/css\" >\n",
       "#T_6d03d_row0_col0,#T_6d03d_row1_col10,#T_6d03d_row1_col11,#T_6d03d_row1_col14,#T_6d03d_row1_col23,#T_6d03d_row2_col12,#T_6d03d_row2_col25,#T_6d03d_row3_col22,#T_6d03d_row4_col2{\n",
       "            background-color:  #30123b;\n",
       "            color:  #f1f1f1;\n",
       "        }#T_6d03d_row0_col2{\n",
       "            background-color:  #5dfc6f;\n",
       "            color:  #000000;\n",
       "        }#T_6d03d_row0_col10,#T_6d03d_row0_col23{\n",
       "            background-color:  #4456c7;\n",
       "            color:  #f1f1f1;\n",
       "        }#T_6d03d_row0_col11{\n",
       "            background-color:  #8fff49;\n",
       "            color:  #000000;\n",
       "        }#T_6d03d_row0_col12{\n",
       "            background-color:  #455ed3;\n",
       "            color:  #f1f1f1;\n",
       "        }#T_6d03d_row0_col14{\n",
       "            background-color:  #4680f6;\n",
       "            color:  #000000;\n",
       "        }#T_6d03d_row0_col22{\n",
       "            background-color:  #f05b12;\n",
       "            color:  #000000;\n",
       "        }#T_6d03d_row0_col25{\n",
       "            background-color:  #faba39;\n",
       "            color:  #000000;\n",
       "        }#T_6d03d_row1_col0{\n",
       "            background-color:  #28bceb;\n",
       "            color:  #000000;\n",
       "        }#T_6d03d_row1_col2{\n",
       "            background-color:  #dd3d08;\n",
       "            color:  #f1f1f1;\n",
       "        }#T_6d03d_row1_col12{\n",
       "            background-color:  #3ba0fd;\n",
       "            color:  #000000;\n",
       "        }#T_6d03d_row1_col22,#T_6d03d_row4_col22{\n",
       "            background-color:  #e1dd37;\n",
       "            color:  #000000;\n",
       "        }#T_6d03d_row1_col25,#T_6d03d_row2_col10,#T_6d03d_row2_col11,#T_6d03d_row2_col22,#T_6d03d_row2_col23,#T_6d03d_row3_col2,#T_6d03d_row3_col12,#T_6d03d_row3_col25,#T_6d03d_row4_col0,#T_6d03d_row4_col14,#T_6d03d_row4_col25{\n",
       "            background-color:  #7a0403;\n",
       "            color:  #f1f1f1;\n",
       "        }#T_6d03d_row2_col0{\n",
       "            background-color:  #a4fc3c;\n",
       "            color:  #000000;\n",
       "        }#T_6d03d_row2_col2{\n",
       "            background-color:  #3aa3fc;\n",
       "            color:  #000000;\n",
       "        }#T_6d03d_row2_col14{\n",
       "            background-color:  #424bb5;\n",
       "            color:  #f1f1f1;\n",
       "        }#T_6d03d_row3_col0{\n",
       "            background-color:  #fb7e21;\n",
       "            color:  #000000;\n",
       "        }#T_6d03d_row3_col10,#T_6d03d_row3_col23{\n",
       "            background-color:  #f36315;\n",
       "            color:  #000000;\n",
       "        }#T_6d03d_row3_col11{\n",
       "            background-color:  #18d7ca;\n",
       "            color:  #000000;\n",
       "        }#T_6d03d_row3_col14{\n",
       "            background-color:  #f5c53a;\n",
       "            color:  #000000;\n",
       "        }#T_6d03d_row4_col10,#T_6d03d_row4_col23{\n",
       "            background-color:  #4559cb;\n",
       "            color:  #f1f1f1;\n",
       "        }#T_6d03d_row4_col11{\n",
       "            background-color:  #8e0a01;\n",
       "            color:  #f1f1f1;\n",
       "        }#T_6d03d_row4_col12{\n",
       "            background-color:  #fea431;\n",
       "            color:  #000000;\n",
       "        }</style><table id=\"T_6d03d_\" ><thead>    <tr>        <th class=\"blank level0\" ></th>        <th class=\"col_heading level0 col0\" >Unnamed: 0</th>        <th class=\"col_heading level0 col1\" >Patient ID</th>        <th class=\"col_heading level0 col2\" >Agent ID</th>        <th class=\"col_heading level0 col3\" >pincode</th>        <th class=\"col_heading level0 col4\" >patient location</th>        <th class=\"col_heading level0 col5\" >Latitudes and Longitudes (Patient)</th>        <th class=\"col_heading level0 col6\" >Latitudes and Longitudes (Agent)</th>        <th class=\"col_heading level0 col7\" >Latitudes and Longitudes (Diagnostic Center)</th>        <th class=\"col_heading level0 col8\" >Diagnostic Centers</th>        <th class=\"col_heading level0 col9\" >Time slot</th>        <th class=\"col_heading level0 col10\" >shortest distance Agent-Pathlab(m)</th>        <th class=\"col_heading level0 col11\" >shortest distance Patient-Pathlab(m)</th>        <th class=\"col_heading level0 col12\" >shortest distance Patient-Agent(m)</th>        <th class=\"col_heading level0 col13\" >Availabilty time (Patient)</th>        <th class=\"col_heading level0 col14\" >Age</th>        <th class=\"col_heading level0 col15\" >Gender</th>        <th class=\"col_heading level0 col16\" >Test Booking Date</th>        <th class=\"col_heading level0 col17\" >Test Booking Time HH:MM</th>        <th class=\"col_heading level0 col18\" >Test name</th>        <th class=\"col_heading level0 col19\" >Sample</th>        <th class=\"col_heading level0 col20\" >Way Of Storage Of Sample</th>        <th class=\"col_heading level0 col21\" >Sample Collection Date</th>        <th class=\"col_heading level0 col22\" > Time For Sample Collection MM</th>        <th class=\"col_heading level0 col23\" >Time Agent-Pathlab sec</th>        <th class=\"col_heading level0 col24\" >Agent Arrival Time (range) HH:MM</th>        <th class=\"col_heading level0 col25\" >Exact Arrival Time MM</th>    </tr></thead><tbody>\n",
       "                <tr>\n",
       "                        <th id=\"T_6d03d_level0_row0\" class=\"row_heading level0 row0\" >0</th>\n",
       "                        <td id=\"T_6d03d_row0_col0\" class=\"data row0 col0\" >0</td>\n",
       "                        <td id=\"T_6d03d_row0_col1\" class=\"data row0 col1\" >MD1001</td>\n",
       "                        <td id=\"T_6d03d_row0_col2\" class=\"data row0 col2\" >26</td>\n",
       "                        <td id=\"T_6d03d_row0_col3\" class=\"data row0 col3\" >500019</td>\n",
       "                        <td id=\"T_6d03d_row0_col4\" class=\"data row0 col4\" >Serilingampalle (M)</td>\n",
       "                        <td id=\"T_6d03d_row0_col5\" class=\"data row0 col5\" >17.480944, 78.321500</td>\n",
       "                        <td id=\"T_6d03d_row0_col6\" class=\"data row0 col6\" >17.476422, 78.327109</td>\n",
       "                        <td id=\"T_6d03d_row0_col7\" class=\"data row0 col7\" >17.494695, 78.344071</td>\n",
       "                        <td id=\"T_6d03d_row0_col8\" class=\"data row0 col8\" >Medquest Diagnostics Center</td>\n",
       "                        <td id=\"T_6d03d_row0_col9\" class=\"data row0 col9\" >06:00 to 21:00 (Home)</td>\n",
       "                        <td id=\"T_6d03d_row0_col10\" class=\"data row0 col10\" >2713</td>\n",
       "                        <td id=\"T_6d03d_row0_col11\" class=\"data row0 col11\" >2840</td>\n",
       "                        <td id=\"T_6d03d_row0_col12\" class=\"data row0 col12\" >778</td>\n",
       "                        <td id=\"T_6d03d_row0_col13\" class=\"data row0 col13\" >09:00 to 10:00</td>\n",
       "                        <td id=\"T_6d03d_row0_col14\" class=\"data row0 col14\" >37</td>\n",
       "                        <td id=\"T_6d03d_row0_col15\" class=\"data row0 col15\" >Female</td>\n",
       "                        <td id=\"T_6d03d_row0_col16\" class=\"data row0 col16\" >2022-01-01 00:00:00</td>\n",
       "                        <td id=\"T_6d03d_row0_col17\" class=\"data row0 col17\" >12:04:00</td>\n",
       "                        <td id=\"T_6d03d_row0_col18\" class=\"data row0 col18\" >Vitamin B-12 </td>\n",
       "                        <td id=\"T_6d03d_row0_col19\" class=\"data row0 col19\" >Blood</td>\n",
       "                        <td id=\"T_6d03d_row0_col20\" class=\"data row0 col20\" >Vaccum blood collection tube</td>\n",
       "                        <td id=\"T_6d03d_row0_col21\" class=\"data row0 col21\" >2022-01-02 00:00:00</td>\n",
       "                        <td id=\"T_6d03d_row0_col22\" class=\"data row0 col22\" >11</td>\n",
       "                        <td id=\"T_6d03d_row0_col23\" class=\"data row0 col23\" >271.300000</td>\n",
       "                        <td id=\"T_6d03d_row0_col24\" class=\"data row0 col24\" >09:05 to 09:55</td>\n",
       "                        <td id=\"T_6d03d_row0_col25\" class=\"data row0 col25\" >34</td>\n",
       "            </tr>\n",
       "            <tr>\n",
       "                        <th id=\"T_6d03d_level0_row1\" class=\"row_heading level0 row1\" >1</th>\n",
       "                        <td id=\"T_6d03d_row1_col0\" class=\"data row1 col0\" >1</td>\n",
       "                        <td id=\"T_6d03d_row1_col1\" class=\"data row1 col1\" >MD1002</td>\n",
       "                        <td id=\"T_6d03d_row1_col2\" class=\"data row1 col2\" >40</td>\n",
       "                        <td id=\"T_6d03d_row1_col3\" class=\"data row1 col3\" >500084</td>\n",
       "                        <td id=\"T_6d03d_row1_col4\" class=\"data row1 col4\" >Serilingampalle (M)</td>\n",
       "                        <td id=\"T_6d03d_row1_col5\" class=\"data row1 col5\" >17.482750, 78.340586</td>\n",
       "                        <td id=\"T_6d03d_row1_col6\" class=\"data row1 col6\" >17.473802, 78.335612</td>\n",
       "                        <td id=\"T_6d03d_row1_col7\" class=\"data row1 col7\" >17.494695, 78.344071</td>\n",
       "                        <td id=\"T_6d03d_row1_col8\" class=\"data row1 col8\" >Medquest Diagnostics Center</td>\n",
       "                        <td id=\"T_6d03d_row1_col9\" class=\"data row1 col9\" >19:00 to 22:00 (working person)</td>\n",
       "                        <td id=\"T_6d03d_row1_col10\" class=\"data row1 col10\" >2490</td>\n",
       "                        <td id=\"T_6d03d_row1_col11\" class=\"data row1 col11\" >1378</td>\n",
       "                        <td id=\"T_6d03d_row1_col12\" class=\"data row1 col12\" >1126</td>\n",
       "                        <td id=\"T_6d03d_row1_col13\" class=\"data row1 col13\" >19:00 to 20:00</td>\n",
       "                        <td id=\"T_6d03d_row1_col14\" class=\"data row1 col14\" >29</td>\n",
       "                        <td id=\"T_6d03d_row1_col15\" class=\"data row1 col15\" >Male</td>\n",
       "                        <td id=\"T_6d03d_row1_col16\" class=\"data row1 col16\" >2022-01-02 00:00:00</td>\n",
       "                        <td id=\"T_6d03d_row1_col17\" class=\"data row1 col17\" >11:12:00</td>\n",
       "                        <td id=\"T_6d03d_row1_col18\" class=\"data row1 col18\" >HbA1c</td>\n",
       "                        <td id=\"T_6d03d_row1_col19\" class=\"data row1 col19\" >Blood</td>\n",
       "                        <td id=\"T_6d03d_row1_col20\" class=\"data row1 col20\" >Vaccum blood collection tube</td>\n",
       "                        <td id=\"T_6d03d_row1_col21\" class=\"data row1 col21\" >2022-01-03 00:00:00</td>\n",
       "                        <td id=\"T_6d03d_row1_col22\" class=\"data row1 col22\" >10</td>\n",
       "                        <td id=\"T_6d03d_row1_col23\" class=\"data row1 col23\" >249.000000</td>\n",
       "                        <td id=\"T_6d03d_row1_col24\" class=\"data row1 col24\" >19:05 to 19:55</td>\n",
       "                        <td id=\"T_6d03d_row1_col25\" class=\"data row1 col25\" >39</td>\n",
       "            </tr>\n",
       "            <tr>\n",
       "                        <th id=\"T_6d03d_level0_row2\" class=\"row_heading level0 row2\" >2</th>\n",
       "                        <td id=\"T_6d03d_row2_col0\" class=\"data row2 col0\" >2</td>\n",
       "                        <td id=\"T_6d03d_row2_col1\" class=\"data row2 col1\" >MD1003</td>\n",
       "                        <td id=\"T_6d03d_row2_col2\" class=\"data row2 col2\" >19</td>\n",
       "                        <td id=\"T_6d03d_row2_col3\" class=\"data row2 col3\" >502032</td>\n",
       "                        <td id=\"T_6d03d_row2_col4\" class=\"data row2 col4\" >Ramachandrapuram</td>\n",
       "                        <td id=\"T_6d03d_row2_col5\" class=\"data row2 col5\" >17.518403, 78.310165</td>\n",
       "                        <td id=\"T_6d03d_row2_col6\" class=\"data row2 col6\" >17.519385, 78.306378</td>\n",
       "                        <td id=\"T_6d03d_row2_col7\" class=\"data row2 col7\" >17.494695, 78.344071</td>\n",
       "                        <td id=\"T_6d03d_row2_col8\" class=\"data row2 col8\" >Medquest Diagnostics Center</td>\n",
       "                        <td id=\"T_6d03d_row2_col9\" class=\"data row2 col9\" >06:00 to 18:00 (Collect at work place)</td>\n",
       "                        <td id=\"T_6d03d_row2_col10\" class=\"data row2 col10\" >4849</td>\n",
       "                        <td id=\"T_6d03d_row2_col11\" class=\"data row2 col11\" >4458</td>\n",
       "                        <td id=\"T_6d03d_row2_col12\" class=\"data row2 col12\" >416</td>\n",
       "                        <td id=\"T_6d03d_row2_col13\" class=\"data row2 col13\" >14:00 to 15:00</td>\n",
       "                        <td id=\"T_6d03d_row2_col14\" class=\"data row2 col14\" >33</td>\n",
       "                        <td id=\"T_6d03d_row2_col15\" class=\"data row2 col15\" >Male</td>\n",
       "                        <td id=\"T_6d03d_row2_col16\" class=\"data row2 col16\" >2022-01-03 00:00:00</td>\n",
       "                        <td id=\"T_6d03d_row2_col17\" class=\"data row2 col17\" >12:24:00</td>\n",
       "                        <td id=\"T_6d03d_row2_col18\" class=\"data row2 col18\" >CBC</td>\n",
       "                        <td id=\"T_6d03d_row2_col19\" class=\"data row2 col19\" >Blood</td>\n",
       "                        <td id=\"T_6d03d_row2_col20\" class=\"data row2 col20\" >Vaccum blood collection tube</td>\n",
       "                        <td id=\"T_6d03d_row2_col21\" class=\"data row2 col21\" >2022-01-04 00:00:00</td>\n",
       "                        <td id=\"T_6d03d_row2_col22\" class=\"data row2 col22\" >12</td>\n",
       "                        <td id=\"T_6d03d_row2_col23\" class=\"data row2 col23\" >484.900000</td>\n",
       "                        <td id=\"T_6d03d_row2_col24\" class=\"data row2 col24\" >14:05 to 14:55</td>\n",
       "                        <td id=\"T_6d03d_row2_col25\" class=\"data row2 col25\" >24</td>\n",
       "            </tr>\n",
       "            <tr>\n",
       "                        <th id=\"T_6d03d_level0_row3\" class=\"row_heading level0 row3\" >3</th>\n",
       "                        <td id=\"T_6d03d_row3_col0\" class=\"data row3 col0\" >3</td>\n",
       "                        <td id=\"T_6d03d_row3_col1\" class=\"data row3 col1\" >MD1004</td>\n",
       "                        <td id=\"T_6d03d_row3_col2\" class=\"data row3 col2\" >45</td>\n",
       "                        <td id=\"T_6d03d_row3_col3\" class=\"data row3 col3\" >500049</td>\n",
       "                        <td id=\"T_6d03d_row3_col4\" class=\"data row3 col4\" >Miyapur</td>\n",
       "                        <td id=\"T_6d03d_row3_col5\" class=\"data row3 col5\" >17.511200, 78.357393</td>\n",
       "                        <td id=\"T_6d03d_row3_col6\" class=\"data row3 col6\" >17.488280, 78.384516</td>\n",
       "                        <td id=\"T_6d03d_row3_col7\" class=\"data row3 col7\" >17.494695, 78.344071</td>\n",
       "                        <td id=\"T_6d03d_row3_col8\" class=\"data row3 col8\" >Medquest Diagnostics Center</td>\n",
       "                        <td id=\"T_6d03d_row3_col9\" class=\"data row3 col9\" >19:00 to 22:00 (working person)</td>\n",
       "                        <td id=\"T_6d03d_row3_col10\" class=\"data row3 col10\" >4348</td>\n",
       "                        <td id=\"T_6d03d_row3_col11\" class=\"data row3 col11\" >2316</td>\n",
       "                        <td id=\"T_6d03d_row3_col12\" class=\"data row3 col12\" >3843</td>\n",
       "                        <td id=\"T_6d03d_row3_col13\" class=\"data row3 col13\" >21:00 to 22:00</td>\n",
       "                        <td id=\"T_6d03d_row3_col14\" class=\"data row3 col14\" >62</td>\n",
       "                        <td id=\"T_6d03d_row3_col15\" class=\"data row3 col15\" >Female</td>\n",
       "                        <td id=\"T_6d03d_row3_col16\" class=\"data row3 col16\" >2022-01-04 00:00:00</td>\n",
       "                        <td id=\"T_6d03d_row3_col17\" class=\"data row3 col17\" >13:38:00</td>\n",
       "                        <td id=\"T_6d03d_row3_col18\" class=\"data row3 col18\" >Vitamin D-25Hydroxy</td>\n",
       "                        <td id=\"T_6d03d_row3_col19\" class=\"data row3 col19\" >Blood</td>\n",
       "                        <td id=\"T_6d03d_row3_col20\" class=\"data row3 col20\" >Vaccum blood collection tube</td>\n",
       "                        <td id=\"T_6d03d_row3_col21\" class=\"data row3 col21\" >2022-01-05 00:00:00</td>\n",
       "                        <td id=\"T_6d03d_row3_col22\" class=\"data row3 col22\" >7</td>\n",
       "                        <td id=\"T_6d03d_row3_col23\" class=\"data row3 col23\" >434.800000</td>\n",
       "                        <td id=\"T_6d03d_row3_col24\" class=\"data row3 col24\" >21:05 to 21:55</td>\n",
       "                        <td id=\"T_6d03d_row3_col25\" class=\"data row3 col25\" >39</td>\n",
       "            </tr>\n",
       "            <tr>\n",
       "                        <th id=\"T_6d03d_level0_row4\" class=\"row_heading level0 row4\" >4</th>\n",
       "                        <td id=\"T_6d03d_row4_col0\" class=\"data row4 col0\" >4</td>\n",
       "                        <td id=\"T_6d03d_row4_col1\" class=\"data row4 col1\" >MD1005</td>\n",
       "                        <td id=\"T_6d03d_row4_col2\" class=\"data row4 col2\" >12</td>\n",
       "                        <td id=\"T_6d03d_row4_col3\" class=\"data row4 col3\" >500090</td>\n",
       "                        <td id=\"T_6d03d_row4_col4\" class=\"data row4 col4\" >Nizampet</td>\n",
       "                        <td id=\"T_6d03d_row4_col5\" class=\"data row4 col5\" >17.503342, 78.384344</td>\n",
       "                        <td id=\"T_6d03d_row4_col6\" class=\"data row4 col6\" >17.513819, 78.360140</td>\n",
       "                        <td id=\"T_6d03d_row4_col7\" class=\"data row4 col7\" >17.494695, 78.344071</td>\n",
       "                        <td id=\"T_6d03d_row4_col8\" class=\"data row4 col8\" >Medquest Diagnostics Center</td>\n",
       "                        <td id=\"T_6d03d_row4_col9\" class=\"data row4 col9\" >06:00 to 18:00 (Collect at work place)</td>\n",
       "                        <td id=\"T_6d03d_row4_col10\" class=\"data row4 col10\" >2725</td>\n",
       "                        <td id=\"T_6d03d_row4_col11\" class=\"data row4 col11\" >4377</td>\n",
       "                        <td id=\"T_6d03d_row4_col12\" class=\"data row4 col12\" >2818</td>\n",
       "                        <td id=\"T_6d03d_row4_col13\" class=\"data row4 col13\" >13:00 to 14:00</td>\n",
       "                        <td id=\"T_6d03d_row4_col14\" class=\"data row4 col14\" >80</td>\n",
       "                        <td id=\"T_6d03d_row4_col15\" class=\"data row4 col15\" >Male</td>\n",
       "                        <td id=\"T_6d03d_row4_col16\" class=\"data row4 col16\" >2022-01-05 00:00:00</td>\n",
       "                        <td id=\"T_6d03d_row4_col17\" class=\"data row4 col17\" >16:01:00</td>\n",
       "                        <td id=\"T_6d03d_row4_col18\" class=\"data row4 col18\" >TSH</td>\n",
       "                        <td id=\"T_6d03d_row4_col19\" class=\"data row4 col19\" >Blood</td>\n",
       "                        <td id=\"T_6d03d_row4_col20\" class=\"data row4 col20\" >Vaccum blood collection tube</td>\n",
       "                        <td id=\"T_6d03d_row4_col21\" class=\"data row4 col21\" >2022-01-06 00:00:00</td>\n",
       "                        <td id=\"T_6d03d_row4_col22\" class=\"data row4 col22\" >10</td>\n",
       "                        <td id=\"T_6d03d_row4_col23\" class=\"data row4 col23\" >272.500000</td>\n",
       "                        <td id=\"T_6d03d_row4_col24\" class=\"data row4 col24\" >13:05 to 13:55</td>\n",
       "                        <td id=\"T_6d03d_row4_col25\" class=\"data row4 col25\" >39</td>\n",
       "            </tr>\n",
       "    </tbody></table>"
      ],
      "text/plain": [
       "<pandas.io.formats.style.Styler at 0x20897c4abb0>"
      ]
     },
     "execution_count": 3,
     "metadata": {},
     "output_type": "execute_result"
    }
   ],
   "source": [
    "df.head().style.background_gradient('turbo')"
   ]
  },
  {
   "cell_type": "code",
   "execution_count": 4,
   "id": "899e52ad",
   "metadata": {},
   "outputs": [],
   "source": [
    "df.drop(['Unnamed: 0'], axis = 1, inplace = True)"
   ]
  },
  {
   "cell_type": "code",
   "execution_count": 5,
   "id": "05546860",
   "metadata": {},
   "outputs": [
    {
     "data": {
      "text/plain": [
       "Index(['Patient ID', 'Agent ID', 'pincode', 'patient location',\n",
       "       'Latitudes and Longitudes (Patient)',\n",
       "       'Latitudes and Longitudes (Agent)',\n",
       "       'Latitudes and Longitudes (Diagnostic Center)', 'Diagnostic Centers',\n",
       "       'Time slot', 'shortest distance Agent-Pathlab(m)',\n",
       "       'shortest distance Patient-Pathlab(m)',\n",
       "       'shortest distance Patient-Agent(m)', 'Availabilty time (Patient)',\n",
       "       'Age', 'Gender', 'Test Booking Date', 'Test Booking Time HH:MM',\n",
       "       'Test name', 'Sample', 'Way Of Storage Of Sample',\n",
       "       'Sample Collection Date', ' Time For Sample Collection MM',\n",
       "       'Time Agent-Pathlab sec', 'Agent Arrival Time (range) HH:MM',\n",
       "       'Exact Arrival Time MM'],\n",
       "      dtype='object')"
      ]
     },
     "execution_count": 5,
     "metadata": {},
     "output_type": "execute_result"
    }
   ],
   "source": [
    "df.columns"
   ]
  },
  {
   "cell_type": "code",
   "execution_count": 6,
   "id": "92a1eec1",
   "metadata": {},
   "outputs": [
    {
     "name": "stdout",
     "output_type": "stream",
     "text": [
      "<class 'pandas.core.frame.DataFrame'>\n",
      "RangeIndex: 1304 entries, 0 to 1303\n",
      "Data columns (total 25 columns):\n",
      " #   Column                                        Non-Null Count  Dtype         \n",
      "---  ------                                        --------------  -----         \n",
      " 0   Patient ID                                    1304 non-null   object        \n",
      " 1   Agent ID                                      1304 non-null   int64         \n",
      " 2   pincode                                       1304 non-null   object        \n",
      " 3   patient location                              1304 non-null   object        \n",
      " 4   Latitudes and Longitudes (Patient)            1304 non-null   object        \n",
      " 5   Latitudes and Longitudes (Agent)              1304 non-null   object        \n",
      " 6   Latitudes and Longitudes (Diagnostic Center)  1304 non-null   object        \n",
      " 7   Diagnostic Centers                            1304 non-null   object        \n",
      " 8   Time slot                                     1304 non-null   object        \n",
      " 9   shortest distance Agent-Pathlab(m)            1304 non-null   int64         \n",
      " 10  shortest distance Patient-Pathlab(m)          1304 non-null   int64         \n",
      " 11  shortest distance Patient-Agent(m)            1304 non-null   int64         \n",
      " 12  Availabilty time (Patient)                    1304 non-null   object        \n",
      " 13  Age                                           1304 non-null   int64         \n",
      " 14  Gender                                        1304 non-null   object        \n",
      " 15  Test Booking Date                             1304 non-null   datetime64[ns]\n",
      " 16  Test Booking Time HH:MM                       1304 non-null   object        \n",
      " 17  Test name                                     1304 non-null   object        \n",
      " 18  Sample                                        1304 non-null   object        \n",
      " 19  Way Of Storage Of Sample                      1304 non-null   object        \n",
      " 20  Sample Collection Date                        1304 non-null   datetime64[ns]\n",
      " 21   Time For Sample Collection MM                1304 non-null   int64         \n",
      " 22  Time Agent-Pathlab sec                        1304 non-null   float64       \n",
      " 23  Agent Arrival Time (range) HH:MM              1304 non-null   object        \n",
      " 24  Exact Arrival Time MM                         1304 non-null   int64         \n",
      "dtypes: datetime64[ns](2), float64(1), int64(7), object(15)\n",
      "memory usage: 254.8+ KB\n"
     ]
    }
   ],
   "source": [
    "df.info()"
   ]
  },
  {
   "cell_type": "code",
   "execution_count": 7,
   "id": "915ae09f",
   "metadata": {},
   "outputs": [],
   "source": [
    "df.rename(columns={'shortest distance Agent-Pathlab(m)' : 'Distance Agent-Pathlab', ##unit = meters\n",
    "                   'shortest distance Patient-Pathlab(m)' : 'Distance Patient-Pathlab',  ##unit = meters\n",
    "                   'shortest distance Patient-Agent(m)' : 'Distance Patient-Agent',  ##unit = meters\n",
    "                   'Availabilty time (Patient)' : 'Patient Availabilty',  ##range format\n",
    "                   'Test Booking Date' : 'Booking Date',  \n",
    "                   'Test Booking Time HH:MM' : 'Booking Time',\n",
    "                   'Way Of Storage Of Sample' : 'Specimen Storage',\n",
    "                   ' Time For Sample Collection MM' : 'Specimen collection Time',\n",
    "                   'Time Agent-Pathlab sec' : 'Agent-Pathlab sec',\n",
    "                   'Agent Arrival Time (range) HH:MM' : 'Agent Arrival Time',\n",
    "                   'Exact Arrival Time MM' : 'Exact Arrival Time'   ##output time\n",
    "                  }, inplace=True)"
   ]
  },
  {
   "cell_type": "code",
   "execution_count": 8,
   "id": "e80995ae",
   "metadata": {},
   "outputs": [
    {
     "data": {
      "text/plain": [
       "False"
      ]
     },
     "execution_count": 8,
     "metadata": {},
     "output_type": "execute_result"
    }
   ],
   "source": [
    "df.duplicated().any()"
   ]
  },
  {
   "cell_type": "code",
   "execution_count": 9,
   "id": "ece91654",
   "metadata": {},
   "outputs": [
    {
     "data": {
      "text/plain": [
       "Patient ID                                      False\n",
       "Agent ID                                        False\n",
       "pincode                                         False\n",
       "patient location                                False\n",
       "Latitudes and Longitudes (Patient)              False\n",
       "Latitudes and Longitudes (Agent)                False\n",
       "Latitudes and Longitudes (Diagnostic Center)    False\n",
       "Diagnostic Centers                              False\n",
       "Time slot                                       False\n",
       "Distance Agent-Pathlab                          False\n",
       "Distance Patient-Pathlab                        False\n",
       "Distance Patient-Agent                          False\n",
       "Patient Availabilty                             False\n",
       "Age                                             False\n",
       "Gender                                          False\n",
       "Booking Date                                    False\n",
       "Booking Time                                    False\n",
       "Test name                                       False\n",
       "Sample                                          False\n",
       "Specimen Storage                                False\n",
       "Sample Collection Date                          False\n",
       "Specimen collection Time                        False\n",
       "Agent-Pathlab sec                               False\n",
       "Agent Arrival Time                              False\n",
       "Exact Arrival Time                              False\n",
       "dtype: bool"
      ]
     },
     "execution_count": 9,
     "metadata": {},
     "output_type": "execute_result"
    }
   ],
   "source": [
    "df.isna().any()"
   ]
  },
  {
   "cell_type": "code",
   "execution_count": 10,
   "id": "ba23d9f9",
   "metadata": {},
   "outputs": [
    {
     "data": {
      "text/plain": [
       "Index(['Patient ID', 'Agent ID', 'pincode', 'patient location',\n",
       "       'Latitudes and Longitudes (Patient)',\n",
       "       'Latitudes and Longitudes (Agent)',\n",
       "       'Latitudes and Longitudes (Diagnostic Center)', 'Diagnostic Centers',\n",
       "       'Time slot', 'Distance Agent-Pathlab', 'Distance Patient-Pathlab',\n",
       "       'Distance Patient-Agent', 'Patient Availabilty', 'Age', 'Gender',\n",
       "       'Booking Date', 'Booking Time', 'Test name', 'Sample',\n",
       "       'Specimen Storage', 'Sample Collection Date',\n",
       "       'Specimen collection Time', 'Agent-Pathlab sec', 'Agent Arrival Time',\n",
       "       'Exact Arrival Time'],\n",
       "      dtype='object')"
      ]
     },
     "execution_count": 10,
     "metadata": {},
     "output_type": "execute_result"
    }
   ],
   "source": [
    "df.columns"
   ]
  },
  {
   "cell_type": "code",
   "execution_count": 11,
   "id": "218f308c",
   "metadata": {},
   "outputs": [
    {
     "data": {
      "text/plain": [
       "<AxesSubplot:xlabel='Exact Arrival Time', ylabel='Density'>"
      ]
     },
     "execution_count": 11,
     "metadata": {},
     "output_type": "execute_result"
    },
    {
     "data": {
      "image/png": "[encoded data removed]",
      "text/plain": [
       "<Figure size 432x288 with 1 Axes>"
      ]
     },
     "metadata": {
      "needs_background": "light"
     },
     "output_type": "display_data"
    }
   ],
   "source": [
    "sns.distplot(df['Exact Arrival Time'])"
   ]
  },
  {
   "cell_type": "raw",
   "id": "6719d25e",
   "metadata": {},
   "source": [
    "## Important attributes form numerical features is age, exact arrival time, agent-patient dist, collecting sec, "
   ]
  },
  {
   "cell_type": "raw",
   "id": "de445384",
   "metadata": {},
   "source": [
    "## Important attributes form categorical features is Diagnostic Centers, Time slot, Patient Availabilty, Gender, Specimen Storage,Agent Arrival Time "
   ]
  },
  {
   "cell_type": "code",
   "execution_count": 11,
   "id": "9b50c87d",
   "metadata": {},
   "outputs": [],
   "source": [
    "ID_columns = df[['Patient ID', 'Agent ID', 'pincode']]\n",
    "numerical_columns = df[['Age', 'Distance Agent-Pathlab', 'Distance Patient-Pathlab', 'Distance Patient-Agent', \n",
    "                        'Specimen collection Time' , 'Agent-Pathlab sec', 'Exact Arrival Time']]\n",
    "categorical_columns = df[['patient location', 'Diagnostic Centers', 'Time slot', 'Patient Availabilty', 'Gender', \n",
    "                          'Booking Date', 'Specimen Storage', 'Sample Collection Date', 'Agent Arrival Time']]"
   ]
  },
  {
   "cell_type": "code",
   "execution_count": 12,
   "id": "18c8a7fc",
   "metadata": {},
   "outputs": [
    {
     "name": "stdout",
     "output_type": "stream",
     "text": [
      "<class 'pandas.core.frame.DataFrame'>\n",
      "RangeIndex: 1304 entries, 0 to 1303\n",
      "Data columns (total 7 columns):\n",
      " #   Column                    Non-Null Count  Dtype  \n",
      "---  ------                    --------------  -----  \n",
      " 0   Age                       1304 non-null   int64  \n",
      " 1   Distance Agent-Pathlab    1304 non-null   int64  \n",
      " 2   Distance Patient-Pathlab  1304 non-null   int64  \n",
      " 3   Distance Patient-Agent    1304 non-null   int64  \n",
      " 4   Specimen collection Time  1304 non-null   int64  \n",
      " 5   Agent-Pathlab sec         1304 non-null   float64\n",
      " 6   Exact Arrival Time        1304 non-null   int64  \n",
      "dtypes: float64(1), int64(6)\n",
      "memory usage: 71.4 KB\n"
     ]
    }
   ],
   "source": [
    "numerical_columns.info()"
   ]
  },
  {
   "cell_type": "code",
   "execution_count": 13,
   "id": "e241ffdb",
   "metadata": {},
   "outputs": [
    {
     "data": {
      "text/html": [
       "<div>\n",
       "<style scoped>\n",
       "    .dataframe tbody tr th:only-of-type {\n",
       "        vertical-align: middle;\n",
       "    }\n",
       "\n",
       "    .dataframe tbody tr th {\n",
       "        vertical-align: top;\n",
       "    }\n",
       "\n",
       "    .dataframe thead th {\n",
       "        text-align: right;\n",
       "    }\n",
       "</style>\n",
       "<table border=\"1\" class=\"dataframe\">\n",
       "  <thead>\n",
       "    <tr style=\"text-align: right;\">\n",
       "      <th></th>\n",
       "      <th>patient location</th>\n",
       "      <th>Diagnostic Centers</th>\n",
       "      <th>Time slot</th>\n",
       "      <th>Patient Availabilty</th>\n",
       "      <th>Gender</th>\n",
       "      <th>Booking Date</th>\n",
       "      <th>Specimen Storage</th>\n",
       "      <th>Sample Collection Date</th>\n",
       "      <th>Agent Arrival Time</th>\n",
       "    </tr>\n",
       "  </thead>\n",
       "  <tbody>\n",
       "    <tr>\n",
       "      <th>0</th>\n",
       "      <td>Serilingampalle (M)</td>\n",
       "      <td>Medquest Diagnostics Center</td>\n",
       "      <td>06:00 to 21:00 (Home)</td>\n",
       "      <td>09:00 to 10:00</td>\n",
       "      <td>Female</td>\n",
       "      <td>2022-01-01</td>\n",
       "      <td>Vaccum blood collection tube</td>\n",
       "      <td>2022-01-02</td>\n",
       "      <td>09:05 to 09:55</td>\n",
       "    </tr>\n",
       "    <tr>\n",
       "      <th>1</th>\n",
       "      <td>Serilingampalle (M)</td>\n",
       "      <td>Medquest Diagnostics Center</td>\n",
       "      <td>19:00 to 22:00 (working person)</td>\n",
       "      <td>19:00 to 20:00</td>\n",
       "      <td>Male</td>\n",
       "      <td>2022-01-02</td>\n",
       "      <td>Vaccum blood collection tube</td>\n",
       "      <td>2022-01-03</td>\n",
       "      <td>19:05 to 19:55</td>\n",
       "    </tr>\n",
       "    <tr>\n",
       "      <th>2</th>\n",
       "      <td>Ramachandrapuram</td>\n",
       "      <td>Medquest Diagnostics Center</td>\n",
       "      <td>06:00 to 18:00 (Collect at work place)</td>\n",
       "      <td>14:00 to 15:00</td>\n",
       "      <td>Male</td>\n",
       "      <td>2022-01-03</td>\n",
       "      <td>Vaccum blood collection tube</td>\n",
       "      <td>2022-01-04</td>\n",
       "      <td>14:05 to 14:55</td>\n",
       "    </tr>\n",
       "    <tr>\n",
       "      <th>3</th>\n",
       "      <td>Miyapur</td>\n",
       "      <td>Medquest Diagnostics Center</td>\n",
       "      <td>19:00 to 22:00 (working person)</td>\n",
       "      <td>21:00 to 22:00</td>\n",
       "      <td>Female</td>\n",
       "      <td>2022-01-04</td>\n",
       "      <td>Vaccum blood collection tube</td>\n",
       "      <td>2022-01-05</td>\n",
       "      <td>21:05 to 21:55</td>\n",
       "    </tr>\n",
       "    <tr>\n",
       "      <th>4</th>\n",
       "      <td>Nizampet</td>\n",
       "      <td>Medquest Diagnostics Center</td>\n",
       "      <td>06:00 to 18:00 (Collect at work place)</td>\n",
       "      <td>13:00 to 14:00</td>\n",
       "      <td>Male</td>\n",
       "      <td>2022-01-05</td>\n",
       "      <td>Vaccum blood collection tube</td>\n",
       "      <td>2022-01-06</td>\n",
       "      <td>13:05 to 13:55</td>\n",
       "    </tr>\n",
       "  </tbody>\n",
       "</table>\n",
       "</div>"
      ],
      "text/plain": [
       "      patient location           Diagnostic Centers  \\\n",
       "0  Serilingampalle (M)  Medquest Diagnostics Center   \n",
       "1  Serilingampalle (M)  Medquest Diagnostics Center   \n",
       "2     Ramachandrapuram  Medquest Diagnostics Center   \n",
       "3              Miyapur  Medquest Diagnostics Center   \n",
       "4             Nizampet  Medquest Diagnostics Center   \n",
       "\n",
       "                                Time slot Patient Availabilty  Gender  \\\n",
       "0                   06:00 to 21:00 (Home)      09:00 to 10:00  Female   \n",
       "1         19:00 to 22:00 (working person)      19:00 to 20:00    Male   \n",
       "2  06:00 to 18:00 (Collect at work place)      14:00 to 15:00    Male   \n",
       "3         19:00 to 22:00 (working person)      21:00 to 22:00  Female   \n",
       "4  06:00 to 18:00 (Collect at work place)      13:00 to 14:00    Male   \n",
       "\n",
       "  Booking Date              Specimen Storage Sample Collection Date  \\\n",
       "0   2022-01-01  Vaccum blood collection tube             2022-01-02   \n",
       "1   2022-01-02  Vaccum blood collection tube             2022-01-03   \n",
       "2   2022-01-03  Vaccum blood collection tube             2022-01-04   \n",
       "3   2022-01-04  Vaccum blood collection tube             2022-01-05   \n",
       "4   2022-01-05  Vaccum blood collection tube             2022-01-06   \n",
       "\n",
       "  Agent Arrival Time  \n",
       "0     09:05 to 09:55  \n",
       "1     19:05 to 19:55  \n",
       "2     14:05 to 14:55  \n",
       "3     21:05 to 21:55  \n",
       "4     13:05 to 13:55  "
      ]
     },
     "execution_count": 13,
     "metadata": {},
     "output_type": "execute_result"
    }
   ],
   "source": [
    "categorical_columns.head()"
   ]
  },
  {
   "cell_type": "code",
   "execution_count": 15,
   "id": "86d8029d",
   "metadata": {},
   "outputs": [
    {
     "data": {
      "text/plain": [
       "['Medquest Diagnostics Center',\n",
       " 'Vijaya Diagnostic Center',\n",
       " 'Apollo Diagnostics',\n",
       " 'Lucid Medical Diagnostics',\n",
       " 'Vivaa Diagnostic Center',\n",
       " 'Medifine Diagnostic Center',\n",
       " 'Diamond Diagnostic Center',\n",
       " 'Tesla Diagnostics',\n",
       " 'Pronto Diagnostics Center',\n",
       " 'Sri Sai Diagnostic Center',\n",
       " 'Vijaya Diagonstic Center',\n",
       " 'Medquest Diagnostics',\n",
       " 'Pronto Diagnostics',\n",
       " 'Viva Diagnostic']"
      ]
     },
     "execution_count": 15,
     "metadata": {},
     "output_type": "execute_result"
    }
   ],
   "source": [
    "list(categorical_columns['Diagnostic Centers'].unique())"
   ]
  },
  {
   "cell_type": "code",
   "execution_count": 16,
   "id": "3b27a2cb",
   "metadata": {
    "scrolled": false
   },
   "outputs": [
    {
     "data": {
      "text/plain": [
       "<AxesSubplot:>"
      ]
     },
     "execution_count": 16,
     "metadata": {},
     "output_type": "execute_result"
    },
    {
     "data": {
      "image/png": "[encoded data removed]",
      "text/plain": [
       "<Figure size 432x288 with 1 Axes>"
      ]
     },
     "metadata": {
      "needs_background": "light"
     },
     "output_type": "display_data"
    }
   ],
   "source": [
    "categorical_columns['Diagnostic Centers'].value_counts().plot(kind = 'bar')"
   ]
  },
  {
   "cell_type": "code",
   "execution_count": 17,
   "id": "cc3ca28f",
   "metadata": {},
   "outputs": [],
   "source": [
    "def name_change(text):\n",
    "    if text == 'Medquest Diagnostics Center' or text == 'Medquest Diagnostics':\n",
    "        return 'Medquest Diagnostics Center'\n",
    "    elif text == 'Pronto Diagnostics' or text == 'Pronto Diagnostics Center':\n",
    "        return 'Pronto Diagnostics Center'\n",
    "    elif text == 'Vijaya Diagonstic Center' or text == 'Vijaya Diagnostic Center':\n",
    "        return 'Vijaya Diagnostic Center'\n",
    "    elif text == 'Viva Diagnostic' or text == 'Vivaa Diagnostic Center':\n",
    "        return 'Vivaa Diagnostic Center'\n",
    "    else:\n",
    "        return text"
   ]
  },
  {
   "cell_type": "code",
   "execution_count": 18,
   "id": "790a96e1",
   "metadata": {},
   "outputs": [],
   "source": [
    "categorical_columns['Diagnostic Centers'] = categorical_columns['Diagnostic Centers'].apply(name_change)"
   ]
  },
  {
   "cell_type": "code",
   "execution_count": 19,
   "id": "1528263e",
   "metadata": {},
   "outputs": [
    {
     "data": {
      "text/plain": [
       "<AxesSubplot:>"
      ]
     },
     "execution_count": 19,
     "metadata": {},
     "output_type": "execute_result"
    },
    {
     "data": {
      "image/png": "[encoded data removed]",
      "text/plain": [
       "<Figure size 432x288 with 1 Axes>"
      ]
     },
     "metadata": {
      "needs_background": "light"
     },
     "output_type": "display_data"
    }
   ],
   "source": [
    "categorical_columns['Diagnostic Centers'].value_counts().plot(kind = 'bar')"
   ]
  },
  {
   "cell_type": "code",
   "execution_count": 20,
   "id": "05aa0e57",
   "metadata": {},
   "outputs": [
    {
     "data": {
      "text/plain": [
       "<AxesSubplot:>"
      ]
     },
     "execution_count": 20,
     "metadata": {},
     "output_type": "execute_result"
    },
    {
     "data": {
      "image/png": "[encoded data removed]",
      "text/plain": [
       "<Figure size 432x288 with 1 Axes>"
      ]
     },
     "metadata": {
      "needs_background": "light"
     },
     "output_type": "display_data"
    }
   ],
   "source": [
    "categorical_columns['Time slot'].value_counts().plot(kind = 'bar')"
   ]
  },
  {
   "cell_type": "code",
   "execution_count": 21,
   "id": "6d7eeec9",
   "metadata": {},
   "outputs": [
    {
     "data": {
      "text/plain": [
       "<AxesSubplot:>"
      ]
     },
     "execution_count": 21,
     "metadata": {},
     "output_type": "execute_result"
    },
    {
     "data": {
      "image/png": "[encoded data removed]",
      "text/plain": [
       "<Figure size 432x288 with 1 Axes>"
      ]
     },
     "metadata": {
      "needs_background": "light"
     },
     "output_type": "display_data"
    }
   ],
   "source": [
    "categorical_columns['Specimen Storage'].value_counts().plot(kind = 'bar')"
   ]
  },
  {
   "cell_type": "code",
   "execution_count": 22,
   "id": "a0d382eb",
   "metadata": {},
   "outputs": [
    {
     "data": {
      "text/plain": [
       "17"
      ]
     },
     "execution_count": 22,
     "metadata": {},
     "output_type": "execute_result"
    }
   ],
   "source": [
    "len(categorical_columns['Patient Availabilty'].unique())"
   ]
  },
  {
   "cell_type": "code",
   "execution_count": 23,
   "id": "67a2f65c",
   "metadata": {},
   "outputs": [
    {
     "data": {
      "text/plain": [
       "<AxesSubplot:>"
      ]
     },
     "execution_count": 23,
     "metadata": {},
     "output_type": "execute_result"
    },
    {
     "data": {
      "image/png": "[encoded data removed]",
      "text/plain": [
       "<Figure size 432x288 with 1 Axes>"
      ]
     },
     "metadata": {
      "needs_background": "light"
     },
     "output_type": "display_data"
    }
   ],
   "source": [
    "categorical_columns['Patient Availabilty'].value_counts().plot(kind = 'bar')"
   ]
  },
  {
   "cell_type": "code",
   "execution_count": 24,
   "id": "72b03a2a",
   "metadata": {},
   "outputs": [
    {
     "data": {
      "text/plain": [
       "16"
      ]
     },
     "execution_count": 24,
     "metadata": {},
     "output_type": "execute_result"
    }
   ],
   "source": [
    "len(categorical_columns['Agent Arrival Time'].unique())"
   ]
  },
  {
   "cell_type": "code",
   "execution_count": 25,
   "id": "7c983917",
   "metadata": {},
   "outputs": [
    {
     "data": {
      "text/plain": [
       "<AxesSubplot:>"
      ]
     },
     "execution_count": 25,
     "metadata": {},
     "output_type": "execute_result"
    },
    {
     "data": {
      "image/png": "[encoded data removed]",
      "text/plain": [
       "<Figure size 432x288 with 1 Axes>"
      ]
     },
     "metadata": {
      "needs_background": "light"
     },
     "output_type": "display_data"
    }
   ],
   "source": [
    "categorical_columns['Gender'].value_counts().plot(kind = 'bar')"
   ]
  },
  {
   "cell_type": "code",
   "execution_count": 14,
   "id": "accbe691",
   "metadata": {},
   "outputs": [],
   "source": [
    "new_df = pd.concat([ID_columns,\n",
    "                    categorical_columns[['Diagnostic Centers', 'Time slot', 'Patient Availabilty', 'Gender',\n",
    "                                         'Specimen Storage', 'Agent Arrival Time']],\n",
    "                    numerical_columns[['Distance Patient-Agent', 'Specimen collection Time', 'Exact Arrival Time']]\n",
    "                   ], axis = 1)"
   ]
  },
  {
   "cell_type": "code",
   "execution_count": 15,
   "id": "78b2bc44",
   "metadata": {},
   "outputs": [
    {
     "name": "stdout",
     "output_type": "stream",
     "text": [
      "<class 'pandas.core.frame.DataFrame'>\n",
      "RangeIndex: 1304 entries, 0 to 1303\n",
      "Data columns (total 12 columns):\n",
      " #   Column                    Non-Null Count  Dtype \n",
      "---  ------                    --------------  ----- \n",
      " 0   Patient ID                1304 non-null   object\n",
      " 1   Agent ID                  1304 non-null   int64 \n",
      " 2   pincode                   1304 non-null   object\n",
      " 3   Diagnostic Centers        1304 non-null   object\n",
      " 4   Time slot                 1304 non-null   object\n",
      " 5   Patient Availabilty       1304 non-null   object\n",
      " 6   Gender                    1304 non-null   object\n",
      " 7   Specimen Storage          1304 non-null   object\n",
      " 8   Agent Arrival Time        1304 non-null   object\n",
      " 9   Distance Patient-Agent    1304 non-null   int64 \n",
      " 10  Specimen collection Time  1304 non-null   int64 \n",
      " 11  Exact Arrival Time        1304 non-null   int64 \n",
      "dtypes: int64(4), object(8)\n",
      "memory usage: 122.4+ KB\n"
     ]
    }
   ],
   "source": [
    "new_df.info()"
   ]
  },
  {
   "cell_type": "code",
   "execution_count": 17,
   "id": "0b413791",
   "metadata": {},
   "outputs": [],
   "source": [
    "final = new_df[new_df['Distance Patient-Agent'] != 0]"
   ]
  },
  {
   "cell_type": "code",
   "execution_count": 18,
   "id": "77950b5a",
   "metadata": {},
   "outputs": [
    {
     "name": "stdout",
     "output_type": "stream",
     "text": [
      "<class 'pandas.core.frame.DataFrame'>\n",
      "Int64Index: 1296 entries, 0 to 1303\n",
      "Data columns (total 12 columns):\n",
      " #   Column                    Non-Null Count  Dtype \n",
      "---  ------                    --------------  ----- \n",
      " 0   Patient ID                1296 non-null   object\n",
      " 1   Agent ID                  1296 non-null   int64 \n",
      " 2   pincode                   1296 non-null   object\n",
      " 3   Diagnostic Centers        1296 non-null   object\n",
      " 4   Time slot                 1296 non-null   object\n",
      " 5   Patient Availabilty       1296 non-null   object\n",
      " 6   Gender                    1296 non-null   object\n",
      " 7   Specimen Storage          1296 non-null   object\n",
      " 8   Agent Arrival Time        1296 non-null   object\n",
      " 9   Distance Patient-Agent    1296 non-null   int64 \n",
      " 10  Specimen collection Time  1296 non-null   int64 \n",
      " 11  Exact Arrival Time        1296 non-null   int64 \n",
      "dtypes: int64(4), object(8)\n",
      "memory usage: 131.6+ KB\n"
     ]
    }
   ],
   "source": [
    "final.info()"
   ]
  },
  {
   "cell_type": "code",
   "execution_count": 20,
   "id": "70034570",
   "metadata": {},
   "outputs": [
    {
     "data": {
      "text/plain": [
       "<AxesSubplot:xlabel='Distance Patient-Agent', ylabel='Density'>"
      ]
     },
     "execution_count": 20,
     "metadata": {},
     "output_type": "execute_result"
    },
    {
     "data": {
      "image/png": "[encoded data removed]",
      "text/plain": [
       "<Figure size 432x288 with 1 Axes>"
      ]
     },
     "metadata": {
      "needs_background": "light"
     },
     "output_type": "display_data"
    }
   ],
   "source": [
    "sns.distplot(np.log(final['Distance Patient-Agent']))"
   ]
  },
  {
   "cell_type": "code",
   "execution_count": 21,
   "id": "0e6be54f",
   "metadata": {},
   "outputs": [
    {
     "name": "stdout",
     "output_type": "stream",
     "text": [
      "Patient ID  :  1239 Unique Values\n",
      "Agent ID  :  41 Unique Values\n",
      "pincode  :  76 Unique Values\n",
      "Diagnostic Centers  :  14 Unique Values\n",
      "Time slot  :  3 Unique Values\n",
      "Patient Availabilty  :  17 Unique Values\n",
      "Gender  :  2 Unique Values\n",
      "Specimen Storage  :  3 Unique Values\n",
      "Agent Arrival Time  :  16 Unique Values\n",
      "Distance Patient-Agent  :  975 Unique Values\n",
      "Specimen collection Time  :  16 Unique Values\n",
      "Exact Arrival Time  :  6 Unique Values\n"
     ]
    }
   ],
   "source": [
    "for col in final.columns[:]:\n",
    "    print(col, ' : ', len(final[col].unique()), 'Unique Values')"
   ]
  },
  {
   "cell_type": "code",
   "execution_count": 22,
   "id": "cec0592f",
   "metadata": {},
   "outputs": [
    {
     "data": {
      "text/html": [
       "<div>\n",
       "<style scoped>\n",
       "    .dataframe tbody tr th:only-of-type {\n",
       "        vertical-align: middle;\n",
       "    }\n",
       "\n",
       "    .dataframe tbody tr th {\n",
       "        vertical-align: top;\n",
       "    }\n",
       "\n",
       "    .dataframe thead th {\n",
       "        text-align: right;\n",
       "    }\n",
       "</style>\n",
       "<table border=\"1\" class=\"dataframe\">\n",
       "  <thead>\n",
       "    <tr style=\"text-align: right;\">\n",
       "      <th></th>\n",
       "      <th>Agent ID</th>\n",
       "      <th>Distance Patient-Agent</th>\n",
       "      <th>Specimen collection Time</th>\n",
       "      <th>Exact Arrival Time</th>\n",
       "    </tr>\n",
       "  </thead>\n",
       "  <tbody>\n",
       "    <tr>\n",
       "      <th>count</th>\n",
       "      <td>1296.000000</td>\n",
       "      <td>1296.000000</td>\n",
       "      <td>1296.000000</td>\n",
       "      <td>1296.000000</td>\n",
       "    </tr>\n",
       "    <tr>\n",
       "      <th>mean</th>\n",
       "      <td>29.865741</td>\n",
       "      <td>3565.704475</td>\n",
       "      <td>12.558642</td>\n",
       "      <td>36.750772</td>\n",
       "    </tr>\n",
       "    <tr>\n",
       "      <th>std</th>\n",
       "      <td>11.579126</td>\n",
       "      <td>5926.156972</td>\n",
       "      <td>4.623554</td>\n",
       "      <td>10.861305</td>\n",
       "    </tr>\n",
       "    <tr>\n",
       "      <th>min</th>\n",
       "      <td>10.000000</td>\n",
       "      <td>5.000000</td>\n",
       "      <td>5.000000</td>\n",
       "      <td>24.000000</td>\n",
       "    </tr>\n",
       "    <tr>\n",
       "      <th>25%</th>\n",
       "      <td>20.000000</td>\n",
       "      <td>392.000000</td>\n",
       "      <td>9.000000</td>\n",
       "      <td>24.000000</td>\n",
       "    </tr>\n",
       "    <tr>\n",
       "      <th>50%</th>\n",
       "      <td>30.000000</td>\n",
       "      <td>1195.500000</td>\n",
       "      <td>13.000000</td>\n",
       "      <td>39.000000</td>\n",
       "    </tr>\n",
       "    <tr>\n",
       "      <th>75%</th>\n",
       "      <td>40.000000</td>\n",
       "      <td>4215.750000</td>\n",
       "      <td>17.000000</td>\n",
       "      <td>39.000000</td>\n",
       "    </tr>\n",
       "    <tr>\n",
       "      <th>max</th>\n",
       "      <td>50.000000</td>\n",
       "      <td>67593.000000</td>\n",
       "      <td>20.000000</td>\n",
       "      <td>64.000000</td>\n",
       "    </tr>\n",
       "  </tbody>\n",
       "</table>\n",
       "</div>"
      ],
      "text/plain": [
       "          Agent ID  Distance Patient-Agent  Specimen collection Time  \\\n",
       "count  1296.000000             1296.000000               1296.000000   \n",
       "mean     29.865741             3565.704475                 12.558642   \n",
       "std      11.579126             5926.156972                  4.623554   \n",
       "min      10.000000                5.000000                  5.000000   \n",
       "25%      20.000000              392.000000                  9.000000   \n",
       "50%      30.000000             1195.500000                 13.000000   \n",
       "75%      40.000000             4215.750000                 17.000000   \n",
       "max      50.000000            67593.000000                 20.000000   \n",
       "\n",
       "       Exact Arrival Time  \n",
       "count         1296.000000  \n",
       "mean            36.750772  \n",
       "std             10.861305  \n",
       "min             24.000000  \n",
       "25%             24.000000  \n",
       "50%             39.000000  \n",
       "75%             39.000000  \n",
       "max             64.000000  "
      ]
     },
     "execution_count": 22,
     "metadata": {},
     "output_type": "execute_result"
    }
   ],
   "source": [
    "final.describe()"
   ]
  },
  {
   "cell_type": "code",
   "execution_count": 23,
   "id": "f641c937",
   "metadata": {},
   "outputs": [],
   "source": [
    "final.drop(['Patient ID', 'pincode'], axis = 1, inplace = True)"
   ]
  },
  {
   "cell_type": "code",
   "execution_count": 24,
   "id": "456ccfab",
   "metadata": {},
   "outputs": [],
   "source": [
    "final['Distance Patient-Agent'] = np.log(final['Distance Patient-Agent'])"
   ]
  },
  {
   "cell_type": "code",
   "execution_count": 25,
   "id": "a5dba919",
   "metadata": {},
   "outputs": [],
   "source": [
    "final = final[final['Patient Availabilty'] != '19:00 to 22:00']"
   ]
  },
  {
   "cell_type": "markdown",
   "id": "37b6c10f",
   "metadata": {},
   "source": [
    "## Model Buliding"
   ]
  },
  {
   "cell_type": "code",
   "execution_count": 26,
   "id": "e84d2999",
   "metadata": {},
   "outputs": [],
   "source": [
    "from sklearn.model_selection import train_test_split\n",
    "from sklearn.pipeline import Pipeline\n",
    "from sklearn.preprocessing import OneHotEncoder\n",
    "from sklearn.compose import ColumnTransformer\n",
    "from sklearn.metrics import accuracy_score, classification_report\n",
    "\n",
    "from sklearn.multiclass import OneVsRestClassifier\n",
    "from sklearn.linear_model import LogisticRegression, LogisticRegressionCV\n",
    "from sklearn.svm import SVC "
   ]
  },
  {
   "cell_type": "code",
   "execution_count": 28,
   "id": "490a4da8",
   "metadata": {},
   "outputs": [],
   "source": [
    "#final['Patient Availabilty']"
   ]
  },
  {
   "cell_type": "code",
   "execution_count": 29,
   "id": "50733f12",
   "metadata": {},
   "outputs": [],
   "source": [
    "final['Patient Availabilty From'] = final['Patient Availabilty'].apply(lambda x:x.split(':')[0])"
   ]
  },
  {
   "cell_type": "code",
   "execution_count": 30,
   "id": "f090f34b",
   "metadata": {},
   "outputs": [],
   "source": [
    "a = final['Patient Availabilty'].apply(lambda x:x.split('to')[1])\n",
    "final['Patient Availabilty To'] = a.apply(lambda x:x.split(':')[0])"
   ]
  },
  {
   "cell_type": "code",
   "execution_count": 31,
   "id": "2257f5e9",
   "metadata": {},
   "outputs": [],
   "source": [
    "b = final['Agent Arrival Time'].apply(lambda x:x.split('to')[1])\n",
    "final['Agent Arrive Before'] = b.apply(lambda x:x.split(':')[0])"
   ]
  },
  {
   "cell_type": "code",
   "execution_count": 32,
   "id": "57a1d840",
   "metadata": {},
   "outputs": [],
   "source": [
    "final['Patient Availabilty From'] = final['Patient Availabilty From'].astype('int64')\n",
    "final['Patient Availabilty To'] = final['Patient Availabilty To'].astype('int64')\n",
    "final['Agent Arrive Before'] = final['Agent Arrive Before'].astype('int64')"
   ]
  },
  {
   "cell_type": "code",
   "execution_count": 33,
   "id": "1a87389d",
   "metadata": {},
   "outputs": [],
   "source": [
    "final1 = final.drop(['Patient Availabilty', 'Agent Arrival Time', 'Diagnostic Centers'], axis = 1)"
   ]
  },
  {
   "cell_type": "code",
   "execution_count": 34,
   "id": "ca457884",
   "metadata": {},
   "outputs": [
    {
     "data": {
      "text/html": [
       "<div>\n",
       "<style scoped>\n",
       "    .dataframe tbody tr th:only-of-type {\n",
       "        vertical-align: middle;\n",
       "    }\n",
       "\n",
       "    .dataframe tbody tr th {\n",
       "        vertical-align: top;\n",
       "    }\n",
       "\n",
       "    .dataframe thead th {\n",
       "        text-align: right;\n",
       "    }\n",
       "</style>\n",
       "<table border=\"1\" class=\"dataframe\">\n",
       "  <thead>\n",
       "    <tr style=\"text-align: right;\">\n",
       "      <th></th>\n",
       "      <th>Agent ID</th>\n",
       "      <th>Time slot</th>\n",
       "      <th>Gender</th>\n",
       "      <th>Specimen Storage</th>\n",
       "      <th>Distance Patient-Agent</th>\n",
       "      <th>Specimen collection Time</th>\n",
       "      <th>Exact Arrival Time</th>\n",
       "      <th>Patient Availabilty From</th>\n",
       "      <th>Patient Availabilty To</th>\n",
       "      <th>Agent Arrive Before</th>\n",
       "    </tr>\n",
       "  </thead>\n",
       "  <tbody>\n",
       "    <tr>\n",
       "      <th>0</th>\n",
       "      <td>26</td>\n",
       "      <td>06:00 to 21:00 (Home)</td>\n",
       "      <td>Female</td>\n",
       "      <td>Vaccum blood collection tube</td>\n",
       "      <td>6.656727</td>\n",
       "      <td>11</td>\n",
       "      <td>34</td>\n",
       "      <td>9</td>\n",
       "      <td>10</td>\n",
       "      <td>9</td>\n",
       "    </tr>\n",
       "    <tr>\n",
       "      <th>1</th>\n",
       "      <td>40</td>\n",
       "      <td>19:00 to 22:00 (working person)</td>\n",
       "      <td>Male</td>\n",
       "      <td>Vaccum blood collection tube</td>\n",
       "      <td>7.026427</td>\n",
       "      <td>10</td>\n",
       "      <td>39</td>\n",
       "      <td>19</td>\n",
       "      <td>20</td>\n",
       "      <td>19</td>\n",
       "    </tr>\n",
       "    <tr>\n",
       "      <th>2</th>\n",
       "      <td>19</td>\n",
       "      <td>06:00 to 18:00 (Collect at work place)</td>\n",
       "      <td>Male</td>\n",
       "      <td>Vaccum blood collection tube</td>\n",
       "      <td>6.030685</td>\n",
       "      <td>12</td>\n",
       "      <td>24</td>\n",
       "      <td>14</td>\n",
       "      <td>15</td>\n",
       "      <td>14</td>\n",
       "    </tr>\n",
       "    <tr>\n",
       "      <th>3</th>\n",
       "      <td>45</td>\n",
       "      <td>19:00 to 22:00 (working person)</td>\n",
       "      <td>Female</td>\n",
       "      <td>Vaccum blood collection tube</td>\n",
       "      <td>8.254009</td>\n",
       "      <td>7</td>\n",
       "      <td>39</td>\n",
       "      <td>21</td>\n",
       "      <td>22</td>\n",
       "      <td>21</td>\n",
       "    </tr>\n",
       "    <tr>\n",
       "      <th>4</th>\n",
       "      <td>12</td>\n",
       "      <td>06:00 to 18:00 (Collect at work place)</td>\n",
       "      <td>Male</td>\n",
       "      <td>Vaccum blood collection tube</td>\n",
       "      <td>7.943783</td>\n",
       "      <td>10</td>\n",
       "      <td>39</td>\n",
       "      <td>13</td>\n",
       "      <td>14</td>\n",
       "      <td>13</td>\n",
       "    </tr>\n",
       "  </tbody>\n",
       "</table>\n",
       "</div>"
      ],
      "text/plain": [
       "   Agent ID                               Time slot  Gender  \\\n",
       "0        26                   06:00 to 21:00 (Home)  Female   \n",
       "1        40         19:00 to 22:00 (working person)    Male   \n",
       "2        19  06:00 to 18:00 (Collect at work place)    Male   \n",
       "3        45         19:00 to 22:00 (working person)  Female   \n",
       "4        12  06:00 to 18:00 (Collect at work place)    Male   \n",
       "\n",
       "               Specimen Storage  Distance Patient-Agent  \\\n",
       "0  Vaccum blood collection tube                6.656727   \n",
       "1  Vaccum blood collection tube                7.026427   \n",
       "2  Vaccum blood collection tube                6.030685   \n",
       "3  Vaccum blood collection tube                8.254009   \n",
       "4  Vaccum blood collection tube                7.943783   \n",
       "\n",
       "   Specimen collection Time  Exact Arrival Time  Patient Availabilty From  \\\n",
       "0                        11                  34                         9   \n",
       "1                        10                  39                        19   \n",
       "2                        12                  24                        14   \n",
       "3                         7                  39                        21   \n",
       "4                        10                  39                        13   \n",
       "\n",
       "   Patient Availabilty To  Agent Arrive Before  \n",
       "0                      10                    9  \n",
       "1                      20                   19  \n",
       "2                      15                   14  \n",
       "3                      22                   21  \n",
       "4                      14                   13  "
      ]
     },
     "execution_count": 34,
     "metadata": {},
     "output_type": "execute_result"
    }
   ],
   "source": [
    "final1.head()"
   ]
  },
  {
   "cell_type": "code",
   "execution_count": 35,
   "id": "207baa34",
   "metadata": {},
   "outputs": [],
   "source": [
    "from sklearn.preprocessing import LabelEncoder"
   ]
  },
  {
   "cell_type": "code",
   "execution_count": 36,
   "id": "e9a55d53",
   "metadata": {},
   "outputs": [],
   "source": [
    "le = LabelEncoder()"
   ]
  },
  {
   "cell_type": "code",
   "execution_count": 37,
   "id": "2cf47f70",
   "metadata": {},
   "outputs": [],
   "source": [
    "final1['Time slot'] = le.fit_transform(final1['Time slot'])\n",
    "final1['Gender'] = le.fit_transform(final1['Gender'])\n",
    "final1['Specimen Storage'] = le.fit_transform(final1['Specimen Storage'])"
   ]
  },
  {
   "cell_type": "code",
   "execution_count": 38,
   "id": "f2d53999",
   "metadata": {},
   "outputs": [
    {
     "data": {
      "text/html": [
       "<div>\n",
       "<style scoped>\n",
       "    .dataframe tbody tr th:only-of-type {\n",
       "        vertical-align: middle;\n",
       "    }\n",
       "\n",
       "    .dataframe tbody tr th {\n",
       "        vertical-align: top;\n",
       "    }\n",
       "\n",
       "    .dataframe thead th {\n",
       "        text-align: right;\n",
       "    }\n",
       "</style>\n",
       "<table border=\"1\" class=\"dataframe\">\n",
       "  <thead>\n",
       "    <tr style=\"text-align: right;\">\n",
       "      <th></th>\n",
       "      <th>Agent ID</th>\n",
       "      <th>Time slot</th>\n",
       "      <th>Gender</th>\n",
       "      <th>Specimen Storage</th>\n",
       "      <th>Distance Patient-Agent</th>\n",
       "      <th>Specimen collection Time</th>\n",
       "      <th>Exact Arrival Time</th>\n",
       "      <th>Patient Availabilty From</th>\n",
       "      <th>Patient Availabilty To</th>\n",
       "      <th>Agent Arrive Before</th>\n",
       "    </tr>\n",
       "  </thead>\n",
       "  <tbody>\n",
       "    <tr>\n",
       "      <th>0</th>\n",
       "      <td>26</td>\n",
       "      <td>1</td>\n",
       "      <td>0</td>\n",
       "      <td>2</td>\n",
       "      <td>6.656727</td>\n",
       "      <td>11</td>\n",
       "      <td>34</td>\n",
       "      <td>9</td>\n",
       "      <td>10</td>\n",
       "      <td>9</td>\n",
       "    </tr>\n",
       "    <tr>\n",
       "      <th>1</th>\n",
       "      <td>40</td>\n",
       "      <td>2</td>\n",
       "      <td>1</td>\n",
       "      <td>2</td>\n",
       "      <td>7.026427</td>\n",
       "      <td>10</td>\n",
       "      <td>39</td>\n",
       "      <td>19</td>\n",
       "      <td>20</td>\n",
       "      <td>19</td>\n",
       "    </tr>\n",
       "    <tr>\n",
       "      <th>2</th>\n",
       "      <td>19</td>\n",
       "      <td>0</td>\n",
       "      <td>1</td>\n",
       "      <td>2</td>\n",
       "      <td>6.030685</td>\n",
       "      <td>12</td>\n",
       "      <td>24</td>\n",
       "      <td>14</td>\n",
       "      <td>15</td>\n",
       "      <td>14</td>\n",
       "    </tr>\n",
       "  </tbody>\n",
       "</table>\n",
       "</div>"
      ],
      "text/plain": [
       "   Agent ID  Time slot  Gender  Specimen Storage  Distance Patient-Agent  \\\n",
       "0        26          1       0                 2                6.656727   \n",
       "1        40          2       1                 2                7.026427   \n",
       "2        19          0       1                 2                6.030685   \n",
       "\n",
       "   Specimen collection Time  Exact Arrival Time  Patient Availabilty From  \\\n",
       "0                        11                  34                         9   \n",
       "1                        10                  39                        19   \n",
       "2                        12                  24                        14   \n",
       "\n",
       "   Patient Availabilty To  Agent Arrive Before  \n",
       "0                      10                    9  \n",
       "1                      20                   19  \n",
       "2                      15                   14  "
      ]
     },
     "execution_count": 38,
     "metadata": {},
     "output_type": "execute_result"
    }
   ],
   "source": [
    "final1.head(3)"
   ]
  },
  {
   "cell_type": "raw",
   "id": "3dd47c9c",
   "metadata": {},
   "source": [
    "## Vaccum blood collection tube == 2, Urine culture transport tube == 1, Disposable plastic container == 0, 06:00 to 21:00 (Home) == 1, 19:00 to 22:00 (working person) == 2, 06:00 to 18:00 (Collect at work place) == 0, Female == 0, Male == 1"
   ]
  },
  {
   "cell_type": "code",
   "execution_count": 39,
   "id": "f0f7d163",
   "metadata": {},
   "outputs": [],
   "source": [
    "variables = final1.drop(['Exact Arrival Time'], axis = 1)\n",
    "target = final1[['Exact Arrival Time']]"
   ]
  },
  {
   "cell_type": "code",
   "execution_count": 40,
   "id": "37b6164f",
   "metadata": {},
   "outputs": [],
   "source": [
    "xtrain, xtest, ytrain, ytest = train_test_split(variables, target, test_size=0.3)"
   ]
  },
  {
   "cell_type": "code",
   "execution_count": 42,
   "id": "b76e204d",
   "metadata": {},
   "outputs": [
    {
     "name": "stdout",
     "output_type": "stream",
     "text": [
      "Accruacy score: 0.6195\n",
      "Classification Report: \n",
      "               precision    recall  f1-score   support\n",
      "\n",
      "          24       0.91      0.99      0.95       130\n",
      "          34       0.00      0.00      0.00        63\n",
      "          39       0.52      1.00      0.68       106\n",
      "          49       0.14      0.12      0.13        49\n",
      "          54       0.00      0.00      0.00        22\n",
      "          64       0.00      0.00      0.00        19\n",
      "\n",
      "    accuracy                           0.62       389\n",
      "   macro avg       0.26      0.35      0.29       389\n",
      "weighted avg       0.46      0.62      0.52       389\n",
      "\n"
     ]
    }
   ],
   "source": [
    "lr = LogisticRegression(multi_class='ovr')\n",
    "lr.fit(xtrain, ytrain)\n",
    "ypred = lr.predict(xtest)\n",
    "print('Accruacy score: {:.4f}'.format(accuracy_score(ytest, ypred))) \n",
    "print('Classification Report: \\n', classification_report(ytest, ypred))"
   ]
  },
  {
   "cell_type": "markdown",
   "id": "4f276bc3",
   "metadata": {},
   "source": [
    "# Final Model "
   ]
  },
  {
   "cell_type": "code",
   "execution_count": 43,
   "id": "4ef07d94",
   "metadata": {},
   "outputs": [
    {
     "name": "stdout",
     "output_type": "stream",
     "text": [
      "Accruacy score: 0.8766\n",
      "Classification Report: \n",
      "               precision    recall  f1-score   support\n",
      "\n",
      "          24       1.00      1.00      1.00       130\n",
      "          34       0.81      0.95      0.88        63\n",
      "          39       0.97      0.85      0.90       106\n",
      "          49       0.64      1.00      0.78        49\n",
      "          54       0.25      0.05      0.08        22\n",
      "          64       1.00      0.58      0.73        19\n",
      "\n",
      "    accuracy                           0.88       389\n",
      "   macro avg       0.78      0.74      0.73       389\n",
      "weighted avg       0.87      0.88      0.86       389\n",
      "\n"
     ]
    }
   ],
   "source": [
    "lr1 = LogisticRegression(multi_class='ovr',\n",
    "                           penalty = 'l2',\n",
    "                           solver='newton-cg',\n",
    "                           C = 16.0,\n",
    "                           fit_intercept=True,\n",
    "                           class_weight='balanced',\n",
    "                           random_state=50\n",
    "                          ) \n",
    "lr1.fit(xtrain, ytrain)\n",
    "ypred = lr1.predict(xtest)\n",
    "print('Accruacy score: {:.4f}'.format(accuracy_score(ytest, ypred))) \n",
    "print('Classification Report: \\n', classification_report(ytest, ypred))"
   ]
  },
  {
   "cell_type": "code",
   "execution_count": 51,
   "id": "b6c73138",
   "metadata": {},
   "outputs": [],
   "source": [
    "#pickle.dump(lr1, open('logistic_reg.pkl', 'wb'))\n",
    "#pickle.dump(final1, open('dataset.pkl', 'wb'))"
   ]
  },
  {
   "cell_type": "markdown",
   "id": "f78ff67f",
   "metadata": {},
   "source": [
    "# ------------------------------------------------------------------------------"
   ]
  },
  {
   "cell_type": "code",
   "execution_count": 52,
   "id": "1dd5f612",
   "metadata": {},
   "outputs": [],
   "source": [
    "from haversine import haversine"
   ]
  },
  {
   "cell_type": "code",
   "execution_count": 53,
   "id": "7da0878b",
   "metadata": {},
   "outputs": [
    {
     "name": "stdout",
     "output_type": "stream",
     "text": [
      "latitude 1 :23.2354657\n",
      "longitude 1 :34.2436\n",
      "latitude 2 :35.34556\n",
      "longitude 2 :23.24356\n",
      "1715280\n"
     ]
    }
   ],
   "source": [
    "lat1 = float(input('latitude 1 :'))\n",
    "lon1 = float(input('longitude 1 :'))\n",
    "lat2 = float(input('latitude 2 :'))\n",
    "lon2 = float(input('longitude 2 :'))\n",
    "\n",
    "loc1 = (lat1, lon1)\n",
    "loc2 = (lat2, lon2)\n",
    "distance = haversine(loc1, loc2, unit='m')\n",
    "print(int(distance))"
   ]
  },
  {
   "cell_type": "code",
   "execution_count": null,
   "id": "12ddf6a7",
   "metadata": {},
   "outputs": [],
   "source": []
  },
  {
   "cell_type": "code",
   "execution_count": null,
   "id": "bf1098fd",
   "metadata": {},
   "outputs": [],
   "source": []
  },
  {
   "cell_type": "code",
   "execution_count": null,
   "id": "e57a29eb",
   "metadata": {},
   "outputs": [],
   "source": []
  }
 ],
 "metadata": {
  "kernelspec": {
   "display_name": "Python 3",
   "language": "python",
   "name": "python3"
  },
  "language_info": {
   "codemirror_mode": {
    "name": "ipython",
    "version": 3
   },
   "file_extension": ".py",
   "mimetype": "text/x-python",
   "name": "python",
   "nbconvert_exporter": "python",
   "pygments_lexer": "ipython3",
   "version": "3.8.8"
  }
 },
 "nbformat": 4,
 "nbformat_minor": 5
}
